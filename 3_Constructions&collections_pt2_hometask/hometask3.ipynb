{
 "cells": [
  {
   "cell_type": "code",
   "execution_count": 6,
   "metadata": {},
   "outputs": [
    {
     "name": "stdout",
     "output_type": "stream",
     "text": [
      "{98, 35, 15, 213, 54, 119}\n"
     ]
    }
   ],
   "source": [
    "#задание 1 #\n",
    "ids = {'user1': [213, 213, 213, 15, 213],\n",
    "       'user2': [54, 54, 119, 119, 119],\n",
    "       'user3': [213, 98, 98, 35]}\n",
    "\n",
    "geotags = []\n",
    "for tag in ids.values():\n",
    "    geotags += tag\n",
    "unique_geotags = set(geotags)\n",
    "print(unique_geotags)\n"
   ]
  },
  {
   "cell_type": "code",
   "execution_count": 1,
   "metadata": {},
   "outputs": [
    {
     "name": "stdout",
     "output_type": "stream",
     "text": [
      "Поисковых запросов, содержащих 2 слов(а): 42.86%\n",
      "Поисковых запросов, содержащих 3 слов(а): 57.14%\n"
     ]
    }
   ],
   "source": [
    "#задание 2 короткая версия #\n",
    "\n",
    "queries = ['смотреть сериалы онлайн',\n",
    "           'новости спорта',\n",
    "           'афиша кино',\n",
    "           'курс доллара',\n",
    "           'сериалы этим летом',\n",
    "           'курс по питону',\n",
    "           'сериалы про спорт']\n",
    "\n",
    "result = []\n",
    "for query in queries:\n",
    "    all_words = query.split()  # ['смотреть', 'сериалы', 'онлайн']\n",
    "    num = len(all_words)       # 3\n",
    "    result.append(num)\n",
    "\n",
    "for r in set(result):\n",
    "    print(\"Поисковых запросов, содержащих \" + str(r) +\n",
    "          \" слов(а): \" + str(round(100 * result.count(r) / len(queries), 2)) + \"%\")\n",
    "    "
   ]
  },
  {
   "cell_type": "code",
   "execution_count": 2,
   "metadata": {},
   "outputs": [
    {
     "name": "stdout",
     "output_type": "stream",
     "text": [
      "[3, 2, 2, 2, 3, 3, 3]\n",
      "4\n",
      "7\n",
      "57.142857142857146\n",
      "Поисковых запросов, содержащих 2 слов(а): 42.86%\n",
      "Поисковых запросов, содержащих 3 слов(а): 57.14%\n"
     ]
    }
   ],
   "source": [
    "#задание 2 подробная версия #\n",
    "\n",
    "queries = ['смотреть сериалы онлайн',\n",
    "           'новости спорта',\n",
    "           'афиша кино',\n",
    "           'курс доллара',\n",
    "           'сериалы этим летом',\n",
    "           'курс по питону',\n",
    "           'сериалы про спорт']\n",
    "\n",
    "result = []\n",
    "for query in queries:\n",
    "    all_words = query.split()  # ['смотреть', 'сериалы', 'онлайн']\n",
    "    num = len(all_words)       # 3\n",
    "    result.append(num)\n",
    "    \n",
    "print(result)   #  [3, 2, 2, 2, 3, 3, 3]\n",
    "\n",
    "print(result.count(3))   # считаем сколько раз встречает элемент со значением 3 в списке\n",
    "\n",
    "print(len(queries))    # сколько у нас всего предложений в списке - не количество символов, так как мы передаем список, а не строку\n",
    "print(100 * result.count(3) / len(queries))   # получаем процент предложений из 3х слов среди нашего изначального списка предложений\n",
    "\n",
    "for r in set(result):\n",
    "    print(\"Поисковых запросов, содержащих \" + str(r) +\n",
    "          \" слов(а): \" + str(round(100 * result.count(r) / len(queries), 2)) + \"%\")\n"
   ]
  },
  {
   "cell_type": "code",
   "execution_count": 3,
   "metadata": {},
   "outputs": [
    {
     "name": "stdout",
     "output_type": "stream",
     "text": [
      "{'vk': {'revenue': 103, 'cost': 98, 'ROI': 5.1}, 'yandex': {'revenue': 179, 'cost': 153, 'ROI': 16.99}, 'facebook': {'revenue': 103, 'cost': 110, 'ROI': -6.36}, 'adwords': {'revenue': 35, 'cost': 34, 'ROI': 2.94}, 'twitter': {'revenue': 11, 'cost': 24, 'ROI': -54.17}}\n"
     ]
    }
   ],
   "source": [
    "#задание 3 #\n",
    "results = {\n",
    "    'vk': {'revenue': 103, 'cost': 98},\n",
    "    'yandex': {'revenue': 179, 'cost': 153},\n",
    "    'facebook': {'revenue': 103, 'cost': 110},\n",
    "    'adwords': {'revenue': 35, 'cost': 34},\n",
    "    'twitter': {'revenue': 11, 'cost': 24},\n",
    "}\n",
    "\n",
    "for r in results:\n",
    "    roi = (results[r]['revenue'] / results[r]['cost'] - 1) * 100\n",
    "    results[r]['ROI'] = round(roi, 2)\n",
    "\n",
    "print(results)"
   ]
  },
  {
   "cell_type": "code",
   "execution_count": 4,
   "metadata": {},
   "outputs": [
    {
     "name": "stdout",
     "output_type": "stream",
     "text": [
      "{55: 'facebook', 115: 'yandex', 120: 'vk', 99: 'google', 42: 'email', 98: 'ok'}\n",
      "120\n",
      "Максимальный объем продаж на рекламном канале: vk\n"
     ]
    }
   ],
   "source": [
    "#задание 4 с reverse #\n",
    "stats = {'facebook': 55, 'yandex': 115, 'vk': 120, 'google': 99, 'email': 42, 'ok': 98}\n",
    "\n",
    "reverse = {}\n",
    "max = 0\n",
    "for k in stats:\n",
    "    reverse[stats[k]] = k\n",
    "\n",
    "    if stats[k] > max:\n",
    "        max = stats[k]\n",
    "\n",
    "print(reverse)    # {55: 'facebook', 115: 'yandex', 120: 'vk', 99: 'google', 42: 'email', 98: 'ok'}\n",
    "print(max)   # 120\n",
    "\n",
    "print('Максимальный объем продаж на рекламном канале: ' + reverse[max])"
   ]
  },
  {
   "cell_type": "code",
   "execution_count": 5,
   "metadata": {},
   "outputs": [
    {
     "name": "stdout",
     "output_type": "stream",
     "text": [
      "Максимальный объем продаж на рекламном канале: vk\n"
     ]
    }
   ],
   "source": [
    "#задание 4, еще вариант #\n",
    "stats = {'facebook': 55, 'yandex': 115, 'vk': 120, 'google': 99, 'email': 42, 'ok': 98}\n",
    "\n",
    "max = 0\n",
    "for k in stats.values():\n",
    "    if k > max:\n",
    "        max = k\n",
    "\n",
    "for company, number in stats.items():\n",
    "    if number == max:\n",
    "        print('Максимальный объем продаж на рекламном канале: ' + company)"
   ]
  }
 ],
 "metadata": {
  "kernelspec": {
   "display_name": "Python 3",
   "language": "python",
   "name": "python3"
  },
  "language_info": {
   "codemirror_mode": {
    "name": "ipython",
    "version": 3
   },
   "file_extension": ".py",
   "mimetype": "text/x-python",
   "name": "python",
   "nbconvert_exporter": "python",
   "pygments_lexer": "ipython3",
   "version": "3.8.3"
  }
 },
 "nbformat": 4,
 "nbformat_minor": 4
}
