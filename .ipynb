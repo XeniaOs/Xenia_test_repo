{
 "cells": [
  {
   "cell_type": "code",
   "execution_count": null,
   "metadata": {},
   "outputs": [],
   "source": [
    "# задание 1 #\n",
    "word = 'test'\n",
    "if len(word) % 2 > 0:\n",
    "    print(word[1])\n",
    "elif len(word) % 2 == 0:\n",
    "    print(word[1:3])"
   ]
  },
  {
   "cell_type": "code",
   "execution_count": null,
   "metadata": {},
   "outputs": [],
   "source": [
    "word = 'testing'\n",
    "if len(word) % 2 > 0:\n",
    "    print(word[1])\n",
    "else:\n",
    "    print(word[1:3])"
   ]
  },
  {
   "cell_type": "code",
   "execution_count": null,
   "metadata": {},
   "outputs": [],
   "source": [
    "# задание 2 #\n",
    "number = 5\n",
    "while number != 0:\n",
    "    number = number -1\n",
    "    print(number)\n",
    "    \n",
    "    \n",
    "\n"
   ]
  },
  {
   "cell_type": "code",
   "execution_count": null,
   "metadata": {},
   "outputs": [],
   "source": [
    "number = 5\n",
    "while number != 0:\n",
    "    number = number -1\n",
    "    print(number)"
   ]
  },
  {
   "cell_type": "code",
   "execution_count": null,
   "metadata": {},
   "outputs": [],
   "source": [
    "word = 'test'\n",
    "if len(word) % 2 > 0:\n",
    "    print(word[1])\n",
    "elif len(word) % 2 == 0:\n",
    "    print(word[1:3])"
   ]
  }
 ],
 "metadata": {
  "kernelspec": {
   "display_name": "Python 3",
   "language": "python",
   "name": "python3"
  },
  "language_info": {
   "codemirror_mode": {
    "name": "ipython",
    "version": 3
   },
   "file_extension": ".py",
   "mimetype": "text/x-python",
   "name": "python",
   "nbconvert_exporter": "python",
   "pygments_lexer": "ipython3",
   "version": "3.8.3"
  }
 },
 "nbformat": 4,
 "nbformat_minor": 4
}
