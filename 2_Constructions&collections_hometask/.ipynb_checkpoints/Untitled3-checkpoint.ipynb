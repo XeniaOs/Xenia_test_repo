{
 "cells": [
  {
   "cell_type": "code",
   "execution_count": 1,
   "metadata": {},
   "outputs": [
    {
     "name": "stdout",
     "output_type": "stream",
     "text": [
      "es\n"
     ]
    }
   ],
   "source": [
    "#задача 1 #\n",
    "\n",
    "my_word = 'test'\n",
    "middle = len(my_word) // 2\n",
    "\n",
    "if len(my_word) % 2 == 0:\n",
    "    print(my_word[middle-1:middle+1])\n",
    "else:\n",
    "    print(my_word[middle])"
   ]
  },
  {
   "cell_type": "code",
   "execution_count": 2,
   "metadata": {},
   "outputs": [
    {
     "name": "stdout",
     "output_type": "stream",
     "text": [
      "Введите число:\n",
      "12\n",
      "Введите число:\n",
      "6\n",
      "Введите число:\n",
      "4\n",
      "Введите число:\n",
      "0\n",
      "Результат:\n",
      "22\n"
     ]
    }
   ],
   "source": [
    "#задача 2 #\n",
    "\n",
    "sum = 0\n",
    "n = 1\n",
    "\n",
    "while n != 0:\n",
    "    print('Введите число:')\n",
    "    n = int(input())\n",
    "    sum += n\n",
    "\n",
    "print('Результат:')\n",
    "print(sum)"
   ]
  },
  {
   "cell_type": "code",
   "execution_count": 3,
   "metadata": {},
   "outputs": [
    {
     "name": "stdout",
     "output_type": "stream",
     "text": [
      "Идеальные пары:\n",
      "Alex и Emma\n",
      "Arthur и Kate\n",
      "John и Kira\n",
      "Peter и Liza\n",
      "Richard и Trisha\n"
     ]
    }
   ],
   "source": [
    "#задача 3 #\n",
    "\n",
    "boys = ['Peter', 'Alex', 'John', 'Arthur', 'Richard']\n",
    "girls = ['Kate', 'Liza', 'Kira', 'Emma', 'Trisha']\n",
    "\n",
    "\n",
    "if len(boys) != len(girls):\n",
    "    print('Внимание, кто-то может остаться без пары!')\n",
    "else:\n",
    "    # Cоздаем пары\n",
    "    happy_girls = sorted(girls)\n",
    "    happy_boys = sorted(boys)\n",
    "\n",
    "    # Cоединяем сортированные списки через zip\n",
    "    happy_couples = zip(happy_boys, happy_girls)\n",
    "\n",
    "    print('Идеальные пары:')\n",
    "    for couple in happy_couples:\n",
    "        print(couple[0] + ' и ' + couple[1])"
   ]
  },
  {
   "cell_type": "code",
   "execution_count": 4,
   "metadata": {},
   "outputs": [
    {
     "name": "stdout",
     "output_type": "stream",
     "text": [
      "Средняя температура в странах:\n",
      "Thailand - 23.9 C\n",
      "Germany - 13.8 C\n",
      "Russia - 3.7 C\n",
      "Poland - 12.0 C\n"
     ]
    }
   ],
   "source": [
    "countries_temperature = [\n",
    "    ['Thailand', [75.2, 77, 78.8, 73.4, 68, 75.2, 77]],\n",
    "    ['Germany', [57.2, 55.4, 59, 59, 53.6]],\n",
    "    ['Russia', [35.6, 37.4, 39.2, 41, 42.8, 39.2, 35.6]],\n",
    "    ['Poland', [50, 50, 53.6, 57.2, 55.4, 55.4]]\n",
    "]\n",
    "\n",
    "print('Средняя температура в странах:')\n",
    "\n",
    "for country_temp in countries_temperature:\n",
    "    country = country_temp[0]\n",
    "    temperatures = country_temp[1]\n",
    "\n",
    "    sum_avg_F = 0\n",
    "    for num in temperatures:\n",
    "        sum_avg_F += num / len(temperatures)\n",
    "\n",
    "    sum_avg_C = (sum_avg_F - 32) * 5 / 9\n",
    "\n",
    "    print(country + ' - ' + str(round(sum_avg_C, 1)) + ' C')"
   ]
  }
 ],
 "metadata": {
  "kernelspec": {
   "display_name": "Python 3",
   "language": "python",
   "name": "python3"
  },
  "language_info": {
   "codemirror_mode": {
    "name": "ipython",
    "version": 3
   },
   "file_extension": ".py",
   "mimetype": "text/x-python",
   "name": "python",
   "nbconvert_exporter": "python",
   "pygments_lexer": "ipython3",
   "version": "3.8.3"
  }
 },
 "nbformat": 4,
 "nbformat_minor": 4
}
