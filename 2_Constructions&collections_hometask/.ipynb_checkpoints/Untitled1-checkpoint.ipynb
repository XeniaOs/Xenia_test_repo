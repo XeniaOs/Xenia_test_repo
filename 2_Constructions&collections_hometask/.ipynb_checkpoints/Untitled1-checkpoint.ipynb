{
 "cells": [
  {
   "cell_type": "code",
   "execution_count": 1,
   "metadata": {},
   "outputs": [
    {
     "name": "stdout",
     "output_type": "stream",
     "text": [
      "es\n"
     ]
    }
   ],
   "source": [
    "#Задание 1#\n",
    "word = 'test'\n",
    "if len(word) % 2 > 0:\n",
    "    print(word[1])\n",
    "elif len(word) % 2 == 0:\n",
    "    print(word[1:3])"
   ]
  },
  {
   "cell_type": "code",
   "execution_count": 195,
   "metadata": {},
   "outputs": [
    {
     "name": "stdout",
     "output_type": "stream",
     "text": [
      "1\n",
      "2\n",
      "3\n",
      "4\n",
      "5\n",
      "6\n",
      "7\n",
      "8\n",
      "9\n",
      "10\n",
      "11\n"
     ]
    }
   ],
   "source": [
    "#Задание 2#\n",
    "number = 11\n",
    "numbers_sum = 0\n",
    "while number != 0:\n",
    "    number = number -1\n",
    "    numbers_sum += 1\n",
    "    print(numbers_sum)\n"
   ]
  },
  {
   "cell_type": "code",
   "execution_count": 127,
   "metadata": {},
   "outputs": [
    {
     "name": "stdout",
     "output_type": "stream",
     "text": [
      "Создаем пары\n"
     ]
    }
   ],
   "source": [
    "#Задание 3#\n",
    "boys = ['Peter', 'Alex', 'John', 'Arthur','Richard','Michael']\n",
    "girls = ['Kate', 'Liza', 'Kira','Emma', 'Trisha', 'Agatha']\n",
    "if len(boys)!= len(girls):\n",
    "    print('Пар нет')\n",
    "else:\n",
    "    print('Создаем пары')"
   ]
  },
  {
   "cell_type": "code",
   "execution_count": 125,
   "metadata": {},
   "outputs": [],
   "source": [
    "#создаем пары#\n",
    "happy_girls = sorted(girls)\n",
    "happy_boys = sorted(boys)"
   ]
  },
  {
   "cell_type": "code",
   "execution_count": 126,
   "metadata": {},
   "outputs": [
    {
     "name": "stdout",
     "output_type": "stream",
     "text": [
      "[('Agatha', 'Alex'), ('Emma', 'Arthur'), ('Kate', 'John'), ('Kira', 'Michael'), ('Liza', 'Peter'), ('Trisha', 'Richard')]\n"
     ]
    }
   ],
   "source": [
    "#соединяем сортированные списки через zip#\n",
    "happy_couples = zip(happy_girls, happy_boys)\n",
    "print(list(happy_couples))"
   ]
  },
  {
   "cell_type": "code",
   "execution_count": null,
   "metadata": {},
   "outputs": [],
   "source": [
    "Задание 4\n",
    "У нас есть список, содержащий информацию о среднедневной температуре в Фаренгейтах за произвольный период по странам (структура данных в примере). Необходимо написать код, который рассчитает среднюю температуру за период в Цельсиях(!) для каждой страны.\n",
    "\n",
    "Пример работы программы:\n",
    "\n",
    "countries_temperature = [\n",
    "[‘Thailand’, [75.2, 77, 78.8, 73.4, 68, 75.2, 77]],\n",
    "[‘Germany’, [57.2, 55.4, 59, 59, 53.6]],\n",
    "[‘Russia’, [35.6, 37.4, 39.2, 41, 42.8, 39.2, 35.6]],\n",
    "[‘Poland’, [50, 50, 53.6, 57.2, 55.4, 55.4]]\n",
    "]\n",
    "Результат:\n",
    "\n",
    "Средняя температура в странах:\n",
    "Thailand - 23.9 С\n",
    "Germany - 13.8 С\n",
    "Russia - 3.7 С\n",
    "Poland - 12.0 С"
   ]
  },
  {
   "cell_type": "code",
   "execution_count": null,
   "metadata": {},
   "outputs": [],
   "source": [
    "#Задание 4: тут получилось только написать код с расчетом средней tС отдельно для каждой страны#"
   ]
  },
  {
   "cell_type": "code",
   "execution_count": 166,
   "metadata": {},
   "outputs": [],
   "source": [
    "Germany = [57.2, 55.4, 59, 59, 53.6]\n",
    "DE_sum_avg_F = 0\n",
    "for num in Germany:\n",
    "    DE_sum_avg_F += num/ len(Germany)"
   ]
  },
  {
   "cell_type": "code",
   "execution_count": 167,
   "metadata": {},
   "outputs": [
    {
     "data": {
      "text/plain": [
       "56.84"
      ]
     },
     "execution_count": 167,
     "metadata": {},
     "output_type": "execute_result"
    }
   ],
   "source": [
    "DE_sum_avg_F"
   ]
  },
  {
   "cell_type": "code",
   "execution_count": 168,
   "metadata": {},
   "outputs": [],
   "source": [
    "DE_sum_avg_C = (DE_sum_avg_F - 32) * 0.55"
   ]
  },
  {
   "cell_type": "code",
   "execution_count": 169,
   "metadata": {},
   "outputs": [
    {
     "data": {
      "text/plain": [
       "13.662000000000003"
      ]
     },
     "execution_count": 169,
     "metadata": {},
     "output_type": "execute_result"
    }
   ],
   "source": [
    "DE_sum_avg_C"
   ]
  },
  {
   "cell_type": "code",
   "execution_count": 172,
   "metadata": {},
   "outputs": [],
   "source": [
    "Russia = [35.6, 37.4, 39.2, 41, 42.8, 39.2, 35.6]\n",
    "RU_sum_avg_F = 0\n",
    "for num in Russia:\n",
    "    RU_sum_avg_F += num/ len(Russia)"
   ]
  },
  {
   "cell_type": "code",
   "execution_count": 173,
   "metadata": {},
   "outputs": [
    {
     "data": {
      "text/plain": [
       "38.68571428571429"
      ]
     },
     "execution_count": 173,
     "metadata": {},
     "output_type": "execute_result"
    }
   ],
   "source": [
    "RU_sum_avg_F"
   ]
  },
  {
   "cell_type": "code",
   "execution_count": 198,
   "metadata": {},
   "outputs": [
    {
     "data": {
      "text/plain": [
       "3.67714285714286"
      ]
     },
     "execution_count": 198,
     "metadata": {},
     "output_type": "execute_result"
    }
   ],
   "source": [
    "RU_sum_avg_C =(RU_sum_avg_F - 32) * 0.55\n",
    "RU_sum_avg_C"
   ]
  }
 ],
 "metadata": {
  "kernelspec": {
   "display_name": "Python 3",
   "language": "python",
   "name": "python3"
  },
  "language_info": {
   "codemirror_mode": {
    "name": "ipython",
    "version": 3
   },
   "file_extension": ".py",
   "mimetype": "text/x-python",
   "name": "python",
   "nbconvert_exporter": "python",
   "pygments_lexer": "ipython3",
   "version": "3.8.3"
  }
 },
 "nbformat": 4,
 "nbformat_minor": 4
}
